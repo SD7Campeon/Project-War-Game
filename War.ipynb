{
 "cells": [
  {
   "cell_type": "code",
   "execution_count": 166,
   "id": "0d3c38d2-aecf-44d0-a4e6-6f7d049be8ae",
   "metadata": {},
   "outputs": [],
   "source": [
    "#CARD, RANK, SUIT\n",
    "import random\n",
    "suits = ('Hearts', 'Diamonds','Spades', 'Clubs')\n",
    "ranks = ('Two','Three','Four','Five', 'Six', 'Seven', 'Eight', 'Nine', 'Ten', 'Jack', 'Queen','King', 'Ace')\n",
    "values = {'Two':2, 'Three':3, 'Four':4, 'Five':5, 'Six':6, 'Seven':7, 'Eight':8, 'Nine': 9, 'Ten':10, 'Jack': 11, 'Queen':12, 'King':13, 'Ace':14} "
   ]
  },
  {
   "cell_type": "code",
   "execution_count": 167,
   "id": "f25558af-b9a2-4195-bf3b-93b6f1f82557",
   "metadata": {},
   "outputs": [],
   "source": [
    "class Card:\n",
    "    def __init__(self, suit, rank):\n",
    "        self.suit = suit\n",
    "        self.rank = rank\n",
    "        self.value = values[rank]\n",
    "    def __str__(self):\n",
    "        return self.rank + \" of \" + self.suit"
   ]
  },
  {
   "cell_type": "code",
   "execution_count": 168,
   "id": "68b871b4-d50a-4392-8045-5bd6de39f0ef",
   "metadata": {},
   "outputs": [],
   "source": [
    "three_of_clubs = Card(\"Clubs\", \"Three\")"
   ]
  },
  {
   "cell_type": "code",
   "execution_count": 169,
   "id": "c0431670-b55d-47cd-8809-8c889c5fc1d5",
   "metadata": {},
   "outputs": [
    {
     "data": {
      "text/plain": [
       "'Clubs'"
      ]
     },
     "execution_count": 169,
     "metadata": {},
     "output_type": "execute_result"
    }
   ],
   "source": [
    "three_of_clubs.suit"
   ]
  },
  {
   "cell_type": "code",
   "execution_count": 170,
   "id": "17e425a2-2d43-4e0f-ba53-979f28ff7681",
   "metadata": {},
   "outputs": [
    {
     "data": {
      "text/plain": [
       "'Three'"
      ]
     },
     "execution_count": 170,
     "metadata": {},
     "output_type": "execute_result"
    }
   ],
   "source": [
    "three_of_clubs.rank"
   ]
  },
  {
   "cell_type": "code",
   "execution_count": 171,
   "id": "8cf7732d-80df-4314-aa64-3127fe2f775c",
   "metadata": {},
   "outputs": [
    {
     "data": {
      "text/plain": [
       "3"
      ]
     },
     "execution_count": 171,
     "metadata": {},
     "output_type": "execute_result"
    }
   ],
   "source": [
    "three_of_clubs.value"
   ]
  },
  {
   "cell_type": "code",
   "execution_count": 172,
   "id": "9bea118c-ec40-4b9e-a53c-4951d4cc6a82",
   "metadata": {},
   "outputs": [],
   "source": [
    "two_hearts = Card(\"Hearts\", \"Two\")"
   ]
  },
  {
   "cell_type": "code",
   "execution_count": 173,
   "id": "1fd1b4c5-2386-4efd-96df-f7d3feba8096",
   "metadata": {},
   "outputs": [
    {
     "data": {
      "text/plain": [
       "<__main__.Card at 0x2a5a1b2ffd0>"
      ]
     },
     "execution_count": 173,
     "metadata": {},
     "output_type": "execute_result"
    }
   ],
   "source": [
    "two_hearts"
   ]
  },
  {
   "cell_type": "code",
   "execution_count": 174,
   "id": "2aa36874-5189-4879-87b2-d898d5296582",
   "metadata": {},
   "outputs": [
    {
     "name": "stdout",
     "output_type": "stream",
     "text": [
      "Two of Hearts\n"
     ]
    }
   ],
   "source": [
    "print(two_hearts)"
   ]
  },
  {
   "cell_type": "code",
   "execution_count": 175,
   "id": "d5b52c0d-49f6-45f6-a4e7-b0ecdf4ab323",
   "metadata": {},
   "outputs": [
    {
     "data": {
      "text/plain": [
       "'Hearts'"
      ]
     },
     "execution_count": 175,
     "metadata": {},
     "output_type": "execute_result"
    }
   ],
   "source": [
    "two_hearts.suit"
   ]
  },
  {
   "cell_type": "code",
   "execution_count": 176,
   "id": "1778723f-36ef-4a08-bdef-8b6c92aef5d9",
   "metadata": {},
   "outputs": [
    {
     "data": {
      "text/plain": [
       "'Two'"
      ]
     },
     "execution_count": 176,
     "metadata": {},
     "output_type": "execute_result"
    }
   ],
   "source": [
    "two_hearts.rank"
   ]
  },
  {
   "cell_type": "code",
   "execution_count": 177,
   "id": "d72390da-c506-454e-9d72-2b021bf1b388",
   "metadata": {},
   "outputs": [
    {
     "data": {
      "text/plain": [
       "2"
      ]
     },
     "execution_count": 177,
     "metadata": {},
     "output_type": "execute_result"
    }
   ],
   "source": [
    "two_hearts.value"
   ]
  },
  {
   "cell_type": "code",
   "execution_count": 178,
   "id": "50a7c5b3-1b42-4825-a687-71844f498a48",
   "metadata": {},
   "outputs": [
    {
     "data": {
      "text/plain": [
       "2"
      ]
     },
     "execution_count": 178,
     "metadata": {},
     "output_type": "execute_result"
    }
   ],
   "source": [
    "values[two_hearts.rank]"
   ]
  },
  {
   "cell_type": "code",
   "execution_count": 179,
   "id": "5c989c0e-3bf2-41f0-9e56-1a091620b38e",
   "metadata": {},
   "outputs": [
    {
     "data": {
      "text/plain": [
       "True"
      ]
     },
     "execution_count": 179,
     "metadata": {},
     "output_type": "execute_result"
    }
   ],
   "source": [
    "two_hearts.value < three_of_clubs.value"
   ]
  },
  {
   "cell_type": "code",
   "execution_count": 180,
   "id": "19206fa5-b800-4294-b11a-3881e4150137",
   "metadata": {},
   "outputs": [],
   "source": [
    "class Deck:\n",
    "    def __init__(self):\n",
    "        self.all_cards = []\n",
    "        for suit in suits:\n",
    "            for rank in ranks:\n",
    "                #Create the card objects\n",
    "                created_card = Card(suit, rank)\n",
    "                self.all_cards.append(created_card)\n",
    "    def shuffle(self):\n",
    "        random.shuffle(self.all_cards)\n",
    "    def deal_one(self):\n",
    "        return self.all_cards.pop()"
   ]
  },
  {
   "cell_type": "code",
   "execution_count": 181,
   "id": "54a08364-7998-41db-bab6-da8748f31099",
   "metadata": {},
   "outputs": [],
   "source": [
    "new_deck = Deck()"
   ]
  },
  {
   "cell_type": "code",
   "execution_count": 182,
   "id": "a6995436-9b42-4a09-9f54-09a16b459bfe",
   "metadata": {},
   "outputs": [],
   "source": [
    "new_deck.shuffle()"
   ]
  },
  {
   "cell_type": "code",
   "execution_count": 183,
   "id": "1143bce9-0ef5-4bb4-aa32-0618b9d353af",
   "metadata": {},
   "outputs": [],
   "source": [
    "mycard = new_deck.deal_one()"
   ]
  },
  {
   "cell_type": "code",
   "execution_count": 184,
   "id": "e40ba3f8-5d54-47c1-aa91-6851412a7eb0",
   "metadata": {},
   "outputs": [
    {
     "name": "stdout",
     "output_type": "stream",
     "text": [
      "Eight of Spades\n"
     ]
    }
   ],
   "source": [
    "print(mycard)"
   ]
  },
  {
   "cell_type": "code",
   "execution_count": 185,
   "id": "c7548589-13cd-43e7-8323-bce81bafe3ae",
   "metadata": {},
   "outputs": [
    {
     "data": {
      "text/plain": [
       "51"
      ]
     },
     "execution_count": 185,
     "metadata": {},
     "output_type": "execute_result"
    }
   ],
   "source": [
    "len(new_deck.all_cards)"
   ]
  },
  {
   "cell_type": "code",
   "execution_count": null,
   "id": "4d5b6323-6d14-480c-8e9b-94c748ee9af4",
   "metadata": {},
   "outputs": [],
   "source": []
  },
  {
   "cell_type": "code",
   "execution_count": 186,
   "id": "0dd2b523-0e62-40c1-beba-011b5f227435",
   "metadata": {},
   "outputs": [
    {
     "data": {
      "text/plain": [
       "[<__main__.Card at 0x2a5a1bc4150>,\n",
       " <__main__.Card at 0x2a5a1b90d90>,\n",
       " <__main__.Card at 0x2a5a1bc6790>,\n",
       " <__main__.Card at 0x2a5a1b91fd0>,\n",
       " <__main__.Card at 0x2a5a1b92ed0>,\n",
       " <__main__.Card at 0x2a5a1b90310>,\n",
       " <__main__.Card at 0x2a5a1b90b50>,\n",
       " <__main__.Card at 0x2a5a1b93a50>,\n",
       " <__main__.Card at 0x2a5a1b93750>,\n",
       " <__main__.Card at 0x2a5a1bc5b90>,\n",
       " <__main__.Card at 0x2a5a1b90790>,\n",
       " <__main__.Card at 0x2a5a1bc43d0>,\n",
       " <__main__.Card at 0x2a5a1bc7e50>,\n",
       " <__main__.Card at 0x2a5a1bc7ad0>,\n",
       " <__main__.Card at 0x2a5a1bc4650>,\n",
       " <__main__.Card at 0x2a5a1bc7f10>,\n",
       " <__main__.Card at 0x2a5a1c2ad10>,\n",
       " <__main__.Card at 0x2a5a1b92750>,\n",
       " <__main__.Card at 0x2a5a1b92890>,\n",
       " <__main__.Card at 0x2a5a1bc6210>,\n",
       " <__main__.Card at 0x2a5a1b905d0>,\n",
       " <__main__.Card at 0x2a5a1bc7a10>,\n",
       " <__main__.Card at 0x2a5a1bc4ad0>,\n",
       " <__main__.Card at 0x2a5a1b91d10>,\n",
       " <__main__.Card at 0x2a5a1b92d50>,\n",
       " <__main__.Card at 0x2a5a1b920d0>,\n",
       " <__main__.Card at 0x2a5a1bc7950>,\n",
       " <__main__.Card at 0x2a5a1bc61d0>,\n",
       " <__main__.Card at 0x2a5a1bc5390>,\n",
       " <__main__.Card at 0x2a5a1b93950>,\n",
       " <__main__.Card at 0x2a5a1b92cd0>,\n",
       " <__main__.Card at 0x2a5a1b913d0>,\n",
       " <__main__.Card at 0x2a5a1b92dd0>,\n",
       " <__main__.Card at 0x2a5a1b92410>,\n",
       " <__main__.Card at 0x2a5a1b93cd0>,\n",
       " <__main__.Card at 0x2a5a1b90150>,\n",
       " <__main__.Card at 0x2a5a1b939d0>,\n",
       " <__main__.Card at 0x2a5a1b90590>,\n",
       " <__main__.Card at 0x2a5a1b92e10>,\n",
       " <__main__.Card at 0x2a5a1b93450>,\n",
       " <__main__.Card at 0x2a5a1bc5f90>,\n",
       " <__main__.Card at 0x2a5a1b93790>,\n",
       " <__main__.Card at 0x2a5a1b93ad0>,\n",
       " <__main__.Card at 0x2a5a1b90c90>,\n",
       " <__main__.Card at 0x2a5a1bc5c10>,\n",
       " <__main__.Card at 0x2a5a1bc4f10>,\n",
       " <__main__.Card at 0x2a5a1b919d0>,\n",
       " <__main__.Card at 0x2a5a1bc4550>,\n",
       " <__main__.Card at 0x2a5a1bc4850>,\n",
       " <__main__.Card at 0x2a5a1bc5b50>,\n",
       " <__main__.Card at 0x2a5a1b91b10>]"
      ]
     },
     "execution_count": 186,
     "metadata": {},
     "output_type": "execute_result"
    }
   ],
   "source": [
    "new_deck.all_cards"
   ]
  },
  {
   "cell_type": "code",
   "execution_count": 187,
   "id": "8950de09-296c-47be-9f8a-cd8b4f43bcd8",
   "metadata": {},
   "outputs": [],
   "source": [
    "first_card = new_deck.all_cards[0]"
   ]
  },
  {
   "cell_type": "code",
   "execution_count": 188,
   "id": "c97c8f07-8c3d-4664-b281-935d4928cc53",
   "metadata": {},
   "outputs": [
    {
     "name": "stdout",
     "output_type": "stream",
     "text": [
      "Six of Hearts\n"
     ]
    }
   ],
   "source": [
    "print(first_card)"
   ]
  },
  {
   "cell_type": "code",
   "execution_count": 189,
   "id": "cefd8572-6ebf-4c1c-af45-4b0619a40a48",
   "metadata": {},
   "outputs": [],
   "source": [
    "bottom_card = new_deck.all_cards[-1]"
   ]
  },
  {
   "cell_type": "code",
   "execution_count": 190,
   "id": "486236a9-c704-403a-b855-46a73f9507de",
   "metadata": {},
   "outputs": [
    {
     "name": "stdout",
     "output_type": "stream",
     "text": [
      "Ten of Clubs\n"
     ]
    }
   ],
   "source": [
    "print(bottom_card)"
   ]
  },
  {
   "cell_type": "code",
   "execution_count": 191,
   "id": "f835859f-6524-4a17-a5d8-e025d64e655c",
   "metadata": {
    "scrolled": true
   },
   "outputs": [
    {
     "name": "stdout",
     "output_type": "stream",
     "text": [
      "Six of Hearts\n",
      "Ace of Clubs\n",
      "Four of Diamonds\n",
      "King of Diamonds\n",
      "Five of Spades\n",
      "Jack of Diamonds\n",
      "Nine of Clubs\n",
      "Seven of Clubs\n",
      "Two of Clubs\n",
      "Nine of Hearts\n",
      "Six of Clubs\n",
      "Eight of Diamonds\n",
      "Six of Diamonds\n",
      "Two of Hearts\n",
      "Three of Diamonds\n",
      "Jack of Hearts\n",
      "Three of Hearts\n",
      "Ten of Diamonds\n",
      "Three of Spades\n",
      "Five of Hearts\n",
      "Nine of Spades\n",
      "Eight of Hearts\n",
      "Five of Diamonds\n",
      "Three of Clubs\n",
      "Two of Spades\n",
      "Five of Clubs\n",
      "Ace of Hearts\n",
      "King of Hearts\n",
      "Seven of Diamonds\n",
      "Eight of Clubs\n",
      "Six of Spades\n",
      "Ace of Diamonds\n",
      "Four of Spades\n",
      "Jack of Clubs\n",
      "Queen of Clubs\n",
      "Queen of Spades\n",
      "Four of Clubs\n",
      "Jack of Spades\n",
      "Queen of Diamonds\n",
      "King of Spades\n",
      "Nine of Diamonds\n",
      "Ace of Spades\n",
      "Seven of Spades\n",
      "Ten of Spades\n",
      "Ten of Hearts\n",
      "Two of Diamonds\n",
      "King of Clubs\n",
      "Four of Hearts\n",
      "Seven of Hearts\n",
      "Queen of Hearts\n",
      "Ten of Clubs\n"
     ]
    }
   ],
   "source": [
    "for card_object in new_deck.all_cards:\n",
    "    print(card_object)"
   ]
  },
  {
   "cell_type": "code",
   "execution_count": 192,
   "id": "286b28fe-98ec-4148-8de1-91a208cf447a",
   "metadata": {},
   "outputs": [
    {
     "name": "stdout",
     "output_type": "stream",
     "text": [
      "Ten of Clubs\n"
     ]
    }
   ],
   "source": [
    "print(bottom_card)"
   ]
  },
  {
   "cell_type": "code",
   "execution_count": 193,
   "id": "e5995e94-93ab-4cbc-a1f4-22ff4b4ea5e2",
   "metadata": {},
   "outputs": [],
   "source": [
    "bottom_card = new_deck.all_cards[-1]"
   ]
  },
  {
   "cell_type": "code",
   "execution_count": 194,
   "id": "0114df28-6b0a-4041-b03b-68f2f931b9ad",
   "metadata": {},
   "outputs": [],
   "source": [
    "new_deck.shuffle()"
   ]
  },
  {
   "cell_type": "code",
   "execution_count": 195,
   "id": "113e3b10-fbbc-48c8-a026-e48c55da67c6",
   "metadata": {},
   "outputs": [],
   "source": [
    "bottom_card = new_deck.all_cards[-1]"
   ]
  },
  {
   "cell_type": "code",
   "execution_count": 196,
   "id": "b347f12c-a15d-403c-85b2-515073496c20",
   "metadata": {},
   "outputs": [
    {
     "name": "stdout",
     "output_type": "stream",
     "text": [
      "Seven of Clubs\n"
     ]
    }
   ],
   "source": [
    "print(bottom_card)"
   ]
  },
  {
   "cell_type": "code",
   "execution_count": 197,
   "id": "e38be0f9-2c93-4d93-aeff-2d153b5ba113",
   "metadata": {},
   "outputs": [],
   "source": [
    "class Player:\n",
    "    def __init__(self, name):\n",
    "        self.name = name\n",
    "        self.all_cards = []\n",
    "    def remove_one(self):\n",
    "        return self.all_cards.pop(0)\n",
    "    def add_cards(self, new_cards):\n",
    "        if type(new_cards) == type([]):\n",
    "            #List of multiple Card objects\n",
    "            self.all_cards.extend(new_cards)\n",
    "        else:\n",
    "            #For a single card object\n",
    "            self.all_cards.append(new_cards)\n",
    "            \n",
    "    def __str__(self):\n",
    "        return f'Player {self.name} has {len(self.all_cards)} cards.'\n",
    "        "
   ]
  },
  {
   "cell_type": "code",
   "execution_count": 198,
   "id": "a13ac466-114e-457b-b2de-7dae6725f9d3",
   "metadata": {},
   "outputs": [],
   "source": [
    "new_player = Player(\"Jose\")"
   ]
  },
  {
   "cell_type": "code",
   "execution_count": 199,
   "id": "fdd1fa60-e35f-4081-b509-7020a693f8ad",
   "metadata": {},
   "outputs": [
    {
     "name": "stdout",
     "output_type": "stream",
     "text": [
      "Player Jose has 0 cards.\n"
     ]
    }
   ],
   "source": [
    "print(new_player)"
   ]
  },
  {
   "cell_type": "code",
   "execution_count": 200,
   "id": "5fecb1b5-78fd-4ed0-8345-25106402f36c",
   "metadata": {},
   "outputs": [],
   "source": [
    "new_player.add_cards(mycard)"
   ]
  },
  {
   "cell_type": "code",
   "execution_count": 201,
   "id": "c6252800-453c-4203-8fc3-feb6d9912bf3",
   "metadata": {},
   "outputs": [
    {
     "data": {
      "text/plain": [
       "<__main__.Player at 0x2a5a1c38d10>"
      ]
     },
     "execution_count": 201,
     "metadata": {},
     "output_type": "execute_result"
    }
   ],
   "source": [
    "new_player"
   ]
  },
  {
   "cell_type": "code",
   "execution_count": 202,
   "id": "cb847535-c148-4eac-96a0-d194a784986b",
   "metadata": {},
   "outputs": [
    {
     "name": "stdout",
     "output_type": "stream",
     "text": [
      "Eight of Spades\n"
     ]
    }
   ],
   "source": [
    "print(mycard)"
   ]
  },
  {
   "cell_type": "code",
   "execution_count": 203,
   "id": "e0fe50ca-a1ff-4c5d-b192-5d8a2d8f75b8",
   "metadata": {},
   "outputs": [
    {
     "name": "stdout",
     "output_type": "stream",
     "text": [
      "Player Jose has 1 cards.\n"
     ]
    }
   ],
   "source": [
    "print(new_player)"
   ]
  },
  {
   "cell_type": "code",
   "execution_count": 204,
   "id": "67058de4-3614-4de4-b1ad-cca5684a825b",
   "metadata": {},
   "outputs": [
    {
     "name": "stdout",
     "output_type": "stream",
     "text": [
      "Eight of Spades\n"
     ]
    }
   ],
   "source": [
    "print(new_player.all_cards[0])"
   ]
  },
  {
   "cell_type": "code",
   "execution_count": 205,
   "id": "3e1bd6b0-e9db-4df0-b422-f3ffb6625806",
   "metadata": {},
   "outputs": [],
   "source": [
    "new_player.add_cards([mycard, mycard, mycard])"
   ]
  },
  {
   "cell_type": "code",
   "execution_count": 206,
   "id": "5ea529cf-5405-4d08-95ef-bacd5d655e25",
   "metadata": {},
   "outputs": [
    {
     "name": "stdout",
     "output_type": "stream",
     "text": [
      "Player Jose has 4 cards.\n"
     ]
    }
   ],
   "source": [
    "print(new_player)"
   ]
  },
  {
   "cell_type": "code",
   "execution_count": 207,
   "id": "e3235dc3-6636-4bb3-b805-c9f88fecebe1",
   "metadata": {},
   "outputs": [
    {
     "data": {
      "text/plain": [
       "<__main__.Card at 0x2a5a1b93f90>"
      ]
     },
     "execution_count": 207,
     "metadata": {},
     "output_type": "execute_result"
    }
   ],
   "source": [
    "new_player.remove_one()"
   ]
  },
  {
   "cell_type": "code",
   "execution_count": 208,
   "id": "e1fa510c-6c3f-4bda-9fb3-f3643eb2dc12",
   "metadata": {},
   "outputs": [
    {
     "name": "stdout",
     "output_type": "stream",
     "text": [
      "Player Jose has 3 cards.\n"
     ]
    }
   ],
   "source": [
    "print(new_player)"
   ]
  },
  {
   "cell_type": "code",
   "execution_count": 209,
   "id": "387e99b0-b298-44eb-a71f-3db481b63f30",
   "metadata": {},
   "outputs": [],
   "source": [
    "#GAME SETUP\n",
    "player_one  = Player(\"One\")\n",
    "player_two = Player(\"Two\")\n",
    "\n",
    "new_deck = Deck()\n",
    "new_deck.shuffle() \n",
    "\n",
    "for x in range(26):\n",
    "    player_one.add_cards(new_deck.deal_one)\n",
    "    player_two.add_cards(new_deck.deal_one)"
   ]
  },
  {
   "cell_type": "code",
   "execution_count": 210,
   "id": "ef7ff2f1-a3bf-49e1-8649-88b7c3e6d362",
   "metadata": {},
   "outputs": [],
   "source": [
    "player_one = Player(\"One\")"
   ]
  },
  {
   "cell_type": "code",
   "execution_count": 211,
   "id": "c18c0851-7684-45a7-9540-a531b443be67",
   "metadata": {},
   "outputs": [],
   "source": [
    "player_two = Player(\"Two\")"
   ]
  },
  {
   "cell_type": "code",
   "execution_count": 212,
   "id": "c5624405-aadd-4506-a53a-9b02d9aed8dd",
   "metadata": {},
   "outputs": [],
   "source": [
    "new_deck = Deck()"
   ]
  },
  {
   "cell_type": "code",
   "execution_count": 213,
   "id": "4d8fd48a-3726-4709-8e4e-50bc4e1bcfb9",
   "metadata": {},
   "outputs": [],
   "source": [
    "new_deck.shuffle()"
   ]
  },
  {
   "cell_type": "code",
   "execution_count": 214,
   "id": "e8e3ffca-c4b9-479e-82a8-3034290a411f",
   "metadata": {},
   "outputs": [],
   "source": [
    "for x in range(26):\n",
    "    player_one.add_cards(new_deck.deal_one())\n",
    "    player_two.add_cards(new_deck.deal_one())"
   ]
  },
  {
   "cell_type": "code",
   "execution_count": 215,
   "id": "cd42da3c-b2a9-475a-bdf5-c42f8fc3ad98",
   "metadata": {},
   "outputs": [
    {
     "data": {
      "text/plain": [
       "0"
      ]
     },
     "execution_count": 215,
     "metadata": {},
     "output_type": "execute_result"
    }
   ],
   "source": [
    "len(new_deck.all_cards)"
   ]
  },
  {
   "cell_type": "code",
   "execution_count": 216,
   "id": "75475e12-debb-4438-a08c-d7fd6545ee70",
   "metadata": {},
   "outputs": [
    {
     "data": {
      "text/plain": [
       "26"
      ]
     },
     "execution_count": 216,
     "metadata": {},
     "output_type": "execute_result"
    }
   ],
   "source": [
    "len(player_one.all_cards)"
   ]
  },
  {
   "cell_type": "code",
   "execution_count": 217,
   "id": "c03579c2-15c3-48b7-a7f9-559fb3ab5a47",
   "metadata": {},
   "outputs": [
    {
     "data": {
      "text/plain": [
       "26"
      ]
     },
     "execution_count": 217,
     "metadata": {},
     "output_type": "execute_result"
    }
   ],
   "source": [
    "len(player_two.all_cards)"
   ]
  },
  {
   "cell_type": "code",
   "execution_count": 218,
   "id": "cf9fbc07-c423-455b-95c3-11c8d423cbd8",
   "metadata": {},
   "outputs": [],
   "source": [
    "import pdb"
   ]
  },
  {
   "cell_type": "code",
   "execution_count": 219,
   "id": "edc2c71c-64aa-4e56-ba17-bd7ed17313be",
   "metadata": {},
   "outputs": [],
   "source": [
    "game_on = True"
   ]
  },
  {
   "cell_type": "code",
   "execution_count": null,
   "id": "bd111ed2-163f-4036-8eb9-d62fd6f4498f",
   "metadata": {},
   "outputs": [],
   "source": []
  },
  {
   "cell_type": "code",
   "execution_count": 220,
   "id": "aa65dc1f-eef0-4333-9612-53ccbc20194f",
   "metadata": {},
   "outputs": [
    {
     "name": "stdout",
     "output_type": "stream",
     "text": [
      "Round 1\n",
      "Round 2\n",
      "WAR!\n",
      "Round 3\n",
      "Round 4\n",
      "Round 5\n",
      "Round 6\n",
      "Round 7\n",
      "Round 8\n",
      "Round 9\n",
      "Round 10\n",
      "Round 11\n",
      "Round 12\n",
      "Round 13\n",
      "Round 14\n",
      "Round 15\n",
      "Round 16\n",
      "Round 17\n",
      "Round 18\n",
      "WAR!\n",
      "Round 19\n",
      "Round 20\n",
      "Round 21\n",
      "Round 22\n",
      "Round 23\n",
      "Round 24\n",
      "Round 25\n",
      "Round 26\n",
      "Round 27\n",
      "Round 28\n",
      "Round 29\n",
      "Round 30\n",
      "Round 31\n",
      "Round 32\n",
      "Round 33\n",
      "Round 34\n",
      "Round 35\n",
      "Round 36\n",
      "Round 37\n",
      "Round 38\n",
      "Round 39\n",
      "Round 40\n",
      "Round 41\n",
      "Round 42\n",
      "WAR!\n",
      "Round 43\n",
      "Round 44\n",
      "Round 45\n",
      "Round 46\n",
      "Round 47\n",
      "Round 48\n",
      "Round 49\n",
      "Round 50\n",
      "Round 51\n",
      "Round 52\n",
      "Round 53\n",
      "Round 54\n",
      "Round 55\n",
      "Round 56\n",
      "Round 57\n",
      "Round 58\n",
      "Round 59\n",
      "Round 60\n",
      "Round 61\n",
      "Round 62\n",
      "Round 63\n",
      "Round 64\n",
      "Round 65\n",
      "Round 66\n",
      "Round 67\n",
      "Round 68\n",
      "Round 69\n",
      "Round 70\n",
      "Round 71\n",
      "Round 72\n",
      "Round 73\n",
      "Round 74\n",
      "Round 75\n",
      "Round 76\n",
      "Round 77\n",
      "Round 78\n",
      "Round 79\n",
      "Round 80\n",
      "Round 81\n",
      "Round 82\n",
      "Round 83\n",
      "Round 84\n",
      "Round 85\n",
      "Round 86\n",
      "Round 87\n",
      "WAR!\n",
      "Round 88\n",
      "Round 89\n",
      "Round 90\n",
      "Round 91\n",
      "Round 92\n",
      "Round 93\n",
      "Round 94\n",
      "Round 95\n",
      "Round 96\n",
      "Round 97\n",
      "Round 98\n",
      "Round 99\n",
      "Round 100\n",
      "Round 101\n",
      "Round 102\n",
      "Round 103\n",
      "Round 104\n",
      "Round 105\n",
      "Round 106\n",
      "Round 107\n",
      "Round 108\n",
      "Round 109\n",
      "Round 110\n",
      "Round 111\n",
      "Round 112\n",
      "Round 113\n",
      "Round 114\n",
      "Round 115\n",
      "Round 116\n",
      "Round 117\n",
      "Round 118\n",
      "WAR!\n",
      "Round 119\n",
      "Round 120\n",
      "Round 121\n",
      "Round 122\n",
      "Round 123\n",
      "Round 124\n",
      "Round 125\n",
      "Round 126\n",
      "Round 127\n",
      "Round 128\n",
      "Round 129\n",
      "Round 130\n",
      "Round 131\n",
      "Round 132\n",
      "Round 133\n",
      "Round 134\n",
      "Round 135\n",
      "Round 136\n",
      "Round 137\n",
      "Round 138\n",
      "Round 139\n",
      "WAR!\n",
      "Player Two unable to play war! Game Over at War\n",
      "Player One Wins! Player One Loses!\n"
     ]
    }
   ],
   "source": [
    "round_num = 0\n",
    "while game_on:\n",
    "    \n",
    "    round_num += 1\n",
    "    print(f\"Round {round_num}\")\n",
    "    \n",
    "    # Check to see if a player is out of cards:\n",
    "    if len(player_one.all_cards) == 0:\n",
    "        print(\"Player One out of cards! Game Over\")\n",
    "        print(\"Player Two Wins!\")\n",
    "        game_on = False\n",
    "        break\n",
    "        \n",
    "    if len(player_two.all_cards) == 0:\n",
    "        print(\"Player Two out of cards! Game Over\")\n",
    "        print(\"Player One Wins!\")\n",
    "        game_on = False\n",
    "        break\n",
    "    \n",
    "    # Otherwise, the game is still on!\n",
    "    \n",
    "    # Start a new round and reset current cards \"on the table\"\n",
    "    player_one_cards = []\n",
    "    player_one_cards.append(player_one.remove_one())\n",
    "    \n",
    "    player_two_cards = []\n",
    "    player_two_cards.append(player_two.remove_one())\n",
    "    \n",
    "    at_war = True\n",
    "\n",
    "    while at_war:\n",
    "\n",
    "\n",
    "        if player_one_cards[-1].value > player_two_cards[-1].value:\n",
    "\n",
    "            # Player One gets the cards\n",
    "            player_one.add_cards(player_one_cards)\n",
    "            player_one.add_cards(player_two_cards)\n",
    "            \n",
    "            \n",
    "            # No Longer at \"war\" , time for next round\n",
    "            at_war = False\n",
    "        \n",
    "        # Player Two Has higher Card\n",
    "        elif player_one_cards[-1].value < player_two_cards[-1].value:\n",
    "\n",
    "            # Player Two gets the cards\n",
    "            player_two.add_cards(player_one_cards)\n",
    "            player_two.add_cards(player_two_cards)\n",
    "            \n",
    "            # No Longer at \"war\" , time for next round\n",
    "            at_war = False\n",
    "\n",
    "        else:\n",
    "            print('WAR!')\n",
    "            # This occurs when the cards are equal.\n",
    "            # We'll grab another card each and continue the current war.\n",
    "            \n",
    "            # First check to see if player has enough cards\n",
    "            \n",
    "            # Check to see if a player is out of cards:\n",
    "            if len(player_one.all_cards) < 5:\n",
    "                print(\"Player One unable to play war! Game Over at War\")\n",
    "                print(\"Player Two Wins! Player One Loses!\")\n",
    "                game_on = False\n",
    "                break\n",
    "\n",
    "            elif len(player_two.all_cards) < 5:\n",
    "                print(\"Player Two unable to play war! Game Over at War\")\n",
    "                print(\"Player One Wins! Player One Loses!\")\n",
    "                game_on = False\n",
    "                break\n",
    "            # Otherwise, we're still at war, so we'll add the next cards\n",
    "            else:\n",
    "                for num in range(5):\n",
    "                    player_one_cards.append(player_one.remove_one())\n",
    "                    player_two_cards.append(player_two.remove_one())\n",
    "    "
   ]
  },
  {
   "cell_type": "code",
   "execution_count": null,
   "id": "3ba0ece1-9d53-4520-a764-f5acccf8b076",
   "metadata": {},
   "outputs": [],
   "source": []
  }
 ],
 "metadata": {
  "kernelspec": {
   "display_name": "Python 3 (ipykernel)",
   "language": "python",
   "name": "python3"
  },
  "language_info": {
   "codemirror_mode": {
    "name": "ipython",
    "version": 3
   },
   "file_extension": ".py",
   "mimetype": "text/x-python",
   "name": "python",
   "nbconvert_exporter": "python",
   "pygments_lexer": "ipython3",
   "version": "3.11.7"
  }
 },
 "nbformat": 4,
 "nbformat_minor": 5
}
